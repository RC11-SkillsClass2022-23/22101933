{
  "nbformat": 4,
  "nbformat_minor": 0,
  "metadata": {
    "colab": {
      "provenance": [],
      "collapsed_sections": [
        "QWHIXfNp1FXr"
      ],
      "include_colab_link": true
    },
    "kernelspec": {
      "name": "python3",
      "display_name": "Python 3"
    },
    "language_info": {
      "name": "python"
    },
    "gpuClass": "standard"
  },
  "cells": [
    {
      "cell_type": "markdown",
      "metadata": {
        "id": "view-in-github",
        "colab_type": "text"
      },
      "source": [
        "<a href=\"https://colab.research.google.com/github/RC11-SkillsClass2022-23/22101933/blob/main/image_for_video.ipynb\" target=\"_parent\"><img src=\"https://colab.research.google.com/assets/colab-badge.svg\" alt=\"Open In Colab\"/></a>"
      ]
    },
    {
      "cell_type": "markdown",
      "source": [
        "## Defining functions"
      ],
      "metadata": {
        "id": "QWHIXfNp1FXr"
      }
    },
    {
      "cell_type": "code",
      "execution_count": null,
      "metadata": {
        "id": "oZaNseIOEV-X"
      },
      "outputs": [],
      "source": [
        "!pip install --upgrade moviepy"
      ]
    },
    {
      "cell_type": "code",
      "source": [
        "import tensorflow as tf\n",
        "import PIL\n",
        "from tensorflow.keras.models import Model\n",
        "from tensorflow.keras.layers import (Dropout, Dense, Softmax)\n",
        "from tensorflow.keras.applications import mobilenet as _mobilenet\n",
        "import random\n",
        "import os\n",
        "import numpy as np"
      ],
      "metadata": {
        "id": "NyVlC9AKEXX8"
      },
      "execution_count": null,
      "outputs": []
    },
    {
      "cell_type": "code",
      "source": [
        "! git clone https://github.com/kenshohara/video-classification-3d-cnn-pytorch.git"
      ],
      "metadata": {
        "id": "VmGbIjc6EcxJ"
      },
      "execution_count": null,
      "outputs": []
    },
    {
      "cell_type": "code",
      "source": [
        "%cd video-classification-3d-cnn-pytorch/"
      ],
      "metadata": {
        "id": "4galaebPEesX"
      },
      "execution_count": null,
      "outputs": []
    },
    {
      "cell_type": "code",
      "source": [
        "import json\n",
        "import os\n",
        "from moviepy.editor import *\n",
        "from moviepy import *\n",
        "import shutil"
      ],
      "metadata": {
        "id": "mBuhtADCEgcd"
      },
      "execution_count": null,
      "outputs": []
    },
    {
      "cell_type": "code",
      "source": [
        "from PIL import Image"
      ],
      "metadata": {
        "id": "LvIhybMYEh9X"
      },
      "execution_count": null,
      "outputs": []
    },
    {
      "cell_type": "code",
      "source": [
        "def load_image(img_file, target_size=(224,224)):\n",
        "    X = np.zeros((1, *target_size, 3))\n",
        "    X[0, ] = np.asarray(tf.keras.preprocessing.image.load_img(\n",
        "        img_file, \n",
        "        target_size=target_size)\n",
        "    )\n",
        "    X = tf.keras.applications.mobilenet.preprocess_input(X)\n",
        "    return X\n",
        "\n",
        "def ensure_folder_exists(folder):\n",
        "    if not os.path.exists(folder):\n",
        "        os.makedirs(folder)"
      ],
      "metadata": {
        "id": "upEOm0jsEjdo"
      },
      "execution_count": null,
      "outputs": []
    },
    {
      "cell_type": "code",
      "source": [
        "model = tf.keras.applications.mobilenet.MobileNet(\n",
        "# The 3 is the three dimensions of the input: r,g,b.\n",
        "  input_shape=(224, 224, 3), \n",
        "  include_top=False, \n",
        "  pooling='avg'\n",
        ")"
      ],
      "metadata": {
        "id": "9SXHv1P7EkuY"
      },
      "execution_count": null,
      "outputs": []
    },
    {
      "cell_type": "code",
      "source": [
        "def processFilmByFrames(filmName, filmPath, interval, model):\n",
        "    features = []\n",
        "    \n",
        "    film = VideoFileClip(filmPath)\n",
        "    nrFrames = int(film.duration/interval)\n",
        "    for i in range(nrFrames):\n",
        "        s = i*interval\n",
        "        frame = film.get_frame(s)\n",
        "        frame = Image.fromarray(frame,'RGB')\n",
        "        frame.save('/content/drive/MyDrive/youtube/gb_img/temp.jpg')\n",
        "        \n",
        "        im = load_image('/content/drive/MyDrive/youtube/gb_img/temp.jpg')\n",
        "        f = model.predict(im)[0]\n",
        "        features.append({'film':filmPath, 'second': s, 'features': f})\n",
        "    return features"
      ],
      "metadata": {
        "id": "fUwj_7AqEl8J"
      },
      "execution_count": null,
      "outputs": []
    },
    {
      "cell_type": "code",
      "source": [
        "def processVideosByFrames(folder, interval, model):\n",
        "    features = []\n",
        "    \n",
        "    videos = os.listdir(folder)\n",
        "    for v in videos:\n",
        "        if v.split('.')[-1] == 'mp4':\n",
        "            vpath = os.path.join(folder,v)\n",
        "            film = VideoFileClip(vpath)\n",
        "            nrFrames = int(film.duration/interval)\n",
        "            for i in range(nrFrames):\n",
        "                s = i*interval\n",
        "                frame = film.get_frame(s)\n",
        "                frame = Image.fromarray(frame,'RGB')\n",
        "                frame.save('/content/drive/MyDrive/youtube/gb_img/temp.jpg')\n",
        "        \n",
        "        im = load_image('/content/drive/MyDrive/youtube/gb_img/temp.jpg')\n",
        "        f = model.predict(im)[0]\n",
        "        features.append({'film':vpath, 'second': s, 'features': f})\n",
        "    return features"
      ],
      "metadata": {
        "id": "DukL4A3TEnwl"
      },
      "execution_count": null,
      "outputs": []
    },
    {
      "cell_type": "code",
      "source": [
        "def processImage(imagePath, model):\n",
        "    im = load_image(imagePath)\n",
        "    f = model.predict(im)[0]\n",
        "    return f"
      ],
      "metadata": {
        "id": "be3JO2ADEpah"
      },
      "execution_count": null,
      "outputs": []
    },
    {
      "cell_type": "code",
      "source": [
        "def findFramesByImage(filmFeatures, imagePath, model):\n",
        "    imF = processImage(imagePath, model)\n",
        "    \n",
        "    bestFrameDist = 100000000\n",
        "    bestFrameFilm = None\n",
        "    bestFrameSecond = 0\n",
        "    \n",
        "    for f in filmFeatures:\n",
        "        dist = np.linalg.norm(f['features']-imF)\n",
        "        if dist < bestFrameDist:\n",
        "            bestFrameDist = dist\n",
        "            bestFrameFilm = f['film']\n",
        "            bestFrameSecond = f['second']\n",
        "    \n",
        "    return [bestFrameFilm, bestFrameSecond]"
      ],
      "metadata": {
        "id": "XhZAYPMnEqnP"
      },
      "execution_count": null,
      "outputs": []
    },
    {
      "cell_type": "code",
      "source": [
        "def getFilmAroundFrame(frameInfo, radius):\n",
        "    film = VideoFileClip(frameInfo[0])\n",
        "    s = max(frameInfo[-1] - radius, 0)\n",
        "    e = min(frameInfo[-1]+radius, film.duration)\n",
        "    return film.subclip(s,e)"
      ],
      "metadata": {
        "id": "FTqqhenzErvQ"
      },
      "execution_count": null,
      "outputs": []
    },
    {
      "cell_type": "code",
      "source": [
        "def readAllOutput(outputFolder):\n",
        "    list = []\n",
        "    output_files = os.listdir(outputFolder)\n",
        "    for i in output_files:\n",
        "      list.append(i)\n",
        "    \n",
        "    return list"
      ],
      "metadata": {
        "id": "8guVTVjG0jp8"
      },
      "execution_count": null,
      "outputs": []
    },
    {
      "cell_type": "markdown",
      "source": [
        "## Remenber to change out put folder and image path"
      ],
      "metadata": {
        "id": "iWXDRYhg1QHK"
      }
    },
    {
      "cell_type": "code",
      "source": [
        "outputFolder = '/content/drive/MyDrive/action_films'\n",
        "list = readAllOutput(outputFolder)"
      ],
      "metadata": {
        "id": "4VNnxeT-4ybx"
      },
      "execution_count": null,
      "outputs": []
    },
    {
      "cell_type": "code",
      "source": [
        "def img_for_video(img_path):\n",
        "  for name in list:\n",
        "    filmpath = '/content/drive/MyDrive/action_films/' + str(name)\n",
        "    # write path with name\n",
        "\n",
        "    print(filmpath)\n",
        "\n",
        "    features = processFilmByFrames('frame.mp4',filmpath, 10, model)\n",
        "  \n",
        "    features[0]\n",
        "\n",
        "    match = findFramesByImage(features, img_path, model)\n",
        "\n",
        "    match\n",
        "\n",
        "    frameClip = getFilmAroundFrame(match, 1)\n",
        "\n",
        "    output_path = '/content/drive/MyDrive/action_films_output/' + str(name)\n",
        "\n",
        "    frameClip.write_videofile(output_path, audio_codec='aac')"
      ],
      "metadata": {
        "id": "wuvFFIu859yB"
      },
      "execution_count": null,
      "outputs": []
    },
    {
      "cell_type": "code",
      "source": [
        "img_for_video('/content/drive/MyDrive/img/Mosque_image.jpg')"
      ],
      "metadata": {
        "id": "e62Lt4HEabzO"
      },
      "execution_count": null,
      "outputs": []
    }
  ]
}