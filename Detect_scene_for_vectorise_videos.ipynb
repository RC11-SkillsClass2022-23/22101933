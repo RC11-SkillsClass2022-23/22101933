{
  "nbformat": 4,
  "nbformat_minor": 0,
  "metadata": {
    "colab": {
      "provenance": [],
      "include_colab_link": true
    },
    "kernelspec": {
      "name": "python3",
      "display_name": "Python 3"
    },
    "language_info": {
      "name": "python"
    }
  },
  "cells": [
    {
      "cell_type": "markdown",
      "metadata": {
        "id": "view-in-github",
        "colab_type": "text"
      },
      "source": [
        "<a href=\"https://colab.research.google.com/github/RC11-SkillsClass2022-23/22101933/blob/main/Detect_scene_for_vectorise_videos.ipynb\" target=\"_parent\"><img src=\"https://colab.research.google.com/assets/colab-badge.svg\" alt=\"Open In Colab\"/></a>"
      ]
    },
    {
      "cell_type": "markdown",
      "source": [
        "# Preparation"
      ],
      "metadata": {
        "id": "Iw2H8Spst6lT"
      }
    },
    {
      "cell_type": "code",
      "execution_count": null,
      "metadata": {
        "id": "f4vO8TKaizaa"
      },
      "outputs": [],
      "source": [
        "import cv2\n",
        "import os\n",
        "import numpy as np\n",
        "import shutil"
      ]
    },
    {
      "cell_type": "code",
      "source": [
        "moving_root = '/content/drive/MyDrive/code_test/detect_scene/processed_videos/video_to_video'\n",
        "static_root = '/content/drive/MyDrive/code_test/detect_scene/processed_videos/image_to_video'"
      ],
      "metadata": {
        "id": "w8XSWLmUPEDp"
      },
      "execution_count": null,
      "outputs": []
    },
    {
      "cell_type": "code",
      "source": [
        "def VideoCategories(input_root):\n",
        "  videos = os.listdir(input_root)\n",
        "  threshold = 0.4\n",
        "  for i in videos:\n",
        "    prev_frame = None\n",
        "    frame_count = 0\n",
        "    scene_change_count = 0\n",
        "    \n",
        "    video_path = input_root + i\n",
        "    video = cv2.VideoCapture(video_path)\n",
        "    fps = video.get(cv2.CAP_PROP_FPS)\n",
        "    \n",
        "    while True:\n",
        "      ret, frame = video.read()\n",
        "\n",
        "      # Check if end of video\n",
        "      if not ret:\n",
        "          break\n",
        "\n",
        "      # Convert the frame to grayscale\n",
        "      gray = cv2.cvtColor(frame, cv2.COLOR_BGR2GRAY)\n",
        "\n",
        "      # Resize the frame to a smaller size\n",
        "      height, width = gray.shape\n",
        "      scale_percent = 50\n",
        "      new_width = int(width * scale_percent / 100)\n",
        "      new_height = int(height * scale_percent / 100)\n",
        "      resized = cv2.resize(gray, (new_width, new_height))\n",
        "\n",
        "      # Calculate the histogram of the resized frame\n",
        "      hist = cv2.calcHist([resized], [0], None, [256], [0, 256])\n",
        "\n",
        "      # Normalize the histogram\n",
        "      hist_norm = cv2.normalize(hist, hist)\n",
        "\n",
        "      # Update the scene change counter if the histogram distance is greater than the threshold\n",
        "      if prev_frame is not None:\n",
        "          prev_hist = cv2.calcHist([prev_frame], [0], None, [256], [0, 256])\n",
        "          prev_hist_norm = cv2.normalize(prev_hist, prev_hist)\n",
        "          hist_dist = cv2.compareHist(hist_norm, prev_hist_norm, cv2.HISTCMP_CHISQR)\n",
        "          if hist_dist > threshold:\n",
        "              scene_change_count += 1\n",
        "\n",
        "      # Update the previous frame and the frame counter\n",
        "      prev_frame = resized\n",
        "      frame_count += 1\n",
        "\n",
        "      # Press 'q' to quit\n",
        "      if cv2.waitKey(int(1000/fps)) & 0xFF == ord('q'):\n",
        "          break\n",
        "\n",
        "  # Determine if the scene has changed much\n",
        "    percent_scene_change = scene_change_count / frame_count * 100\n",
        "    if percent_scene_change > 1.5:\n",
        "        print(i,'should be processed by videos to videos model')\n",
        "        try:\n",
        "            shutil.move(os.path.join(input_root,i), moving_root)\n",
        "        except:\n",
        "            print(i + ' not moved')\n",
        "    else:\n",
        "        print(i,'should be processed by photos to videos model')\n",
        "        try:\n",
        "            shutil.move(os.path.join(input_root,i), static_root)\n",
        "        except:\n",
        "            print(i + ' not moved')"
      ],
      "metadata": {
        "id": "DYEAPegAfsY4"
      },
      "execution_count": null,
      "outputs": []
    },
    {
      "cell_type": "markdown",
      "source": [
        "帧率太高的话上一帧和下一帧区别不会太大"
      ],
      "metadata": {
        "id": "MT-CCvLyKtFN"
      }
    },
    {
      "cell_type": "code",
      "source": [
        "input_root = '/content/drive/MyDrive/code_test/detect_scene/test_movie/'"
      ],
      "metadata": {
        "id": "lOz5Fmg9SUSk"
      },
      "execution_count": null,
      "outputs": []
    },
    {
      "cell_type": "code",
      "source": [
        "VideoCategories(input_root)"
      ],
      "metadata": {
        "colab": {
          "base_uri": "https://localhost:8080/"
        },
        "id": "opFKLxISw-dy",
        "outputId": "7fa0d4e5-42d4-4143-cec7-2897861030b1"
      },
      "execution_count": null,
      "outputs": [
        {
          "output_type": "stream",
          "name": "stdout",
          "text": [
            "static.MP4 should be processed by videos to videos model\n",
            "moving.MP4 should be processed by photos to videos model\n",
            "static2.mp4 should be processed by photos to videos model\n",
            "moving2.MOV should be processed by photos to videos model\n",
            "moving3.MOV should be processed by videos to videos model\n"
          ]
        }
      ]
    },
    {
      "cell_type": "code",
      "source": [],
      "metadata": {
        "id": "zdXnjhM20On6"
      },
      "execution_count": null,
      "outputs": []
    }
  ]
}